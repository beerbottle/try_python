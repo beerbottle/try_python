{
 "cells": [
  {
   "cell_type": "markdown",
   "metadata": {},
   "source": [
    "# KNN(k-nearest neighbor) 算法：\n",
    "- 算法思想：假设给定一个训练数据集，其中的实例类别已定，预测时，根据其K个最近邻的训练实例的类别，通过多数表决的方式进行预测。\n",
    "- K近邻法不具有显式的学习过程。\n",
    "- K近邻法的三个基本要素：K值的选择，距离度量，分类决策规则\n",
    "- K值的选择：K值一般选较小的值，可以通过CV选择最优的K；\n",
    "- 距离度量：Python中：\n",
    "  - p = 1 曼哈顿距离 即绝对数之和\n",
    "  - p = 2 欧氏距离 即平方和开方\n",
    "  - p = inf  闵式距离minkowski_distance (p为变参数）\n",
    "- 分类决策规则\n",
    "多数表决规则：损失函数为（0-1）损失函数时，使sum(I(y=c))最大，等价于经验风险最小化。\n",
    "\n",
    "- 简单KNN分类具体算法:\n",
    "  - 1. 归一化处理数据；\n",
    "  - 2. 数据集分成训练和测试，其中用训练样本进行交叉验证，选择最优的K；\n",
    "  - 3. 计算测试集和训练样本之间的距离，根据K判断每一个测试样本的预测分类；\n",
    "  - 4. 将测试集中的预测分类和实际分类进行对照，计算测试样本的分类准确率。\n",
    "\n",
    "- kd树搜索最近邻:\n",
    "  - 目的：当训练集很大时，计算输入实例与每一个训练实例的距离，计算量很大而且耗时，kd树通过对k维空间进行切分以便快速检索最近邻的树形数据结构。\n",
    "  - 思想：根据构造好的kd树，给定一个目标点，首先找到包含目标点的叶结点，以此叶结点的实例点作为当前最近点，目标点的最近邻一定是在以目标点为中心并通过当前最近点的超球体的内部。然后返回当前结点的父节点，如果父节点的另一子结点的超矩形区域与超球体相交，那么在相交区域内寻找与目标点更近的实例，如果存在这样的点，将此点作为新的当前最近点。算法转到更上一级的父结点，重复之前过程；如果不想交，则停止搜索。\n",
    "  - 算法：\n",
    "  - 1.构造kd树；\n",
    "  - 2.在kd树中找出目标点的叶节点，以此叶节点为“当前最近点”；\n",
    "  - 3.递归地向上回退，在每个节点进行操作：\n",
    "    检查该子节点的父结点的另一子节点是否有更近的点。具体地，检查另一子节点对应的区域是否与超球体相交；如果相交，在该区域寻找距目标点更近的点，接着，递归地进行搜索；\n",
    "    如果不相交，向上回退。\n",
    "- 构造平衡kd树：（以中位数为切分点，得到的kd树时平衡的，但是未必最优）\n",
    " - 1.构造根节点，包含所有实例。选择x(1)为坐标轴，以所有实例的x(1)的中位数为切分点，将根节点对应的超矩形区域划分为两个子区域。将落在超平面上的点保存在根节点。\n",
    " - 2.重复上面过程，选择x(2)作为坐标轴，以所有实例的x(2)的中位数为切分点，将该节点对应的超矩形区域划分为两个子区域。将落在切分超平面上的点保存在该节点。\n",
    " - 3.直到两个子区域没有实例存在时停止。\n",
    " \n"
   ]
  },
  {
   "cell_type": "markdown",
   "metadata": {},
   "source": [
    "# 数据获取-系统内部数据鸢尾花"
   ]
  },
  {
   "cell_type": "markdown",
   "metadata": {},
   "source": [
    "### sklearn的自带数据\n",
    "load_boston([return_X_y]) 加载波士顿房价数据；用于回归问题 load_iris([return_X_y]) 加载iris 数据集；用于分类问题 load_diabetes([return_X_y]) 加载糖尿病数据集；用于回归问题 load_digits([n_class, return_X_y]) 加载手写字符集；用于分类问题 load_linnerud([return_X_y]) 加载linnerud 数据集；用于多元回归问题\n",
    "\n"
   ]
  },
  {
   "cell_type": "code",
   "execution_count": 2,
   "metadata": {},
   "outputs": [],
   "source": [
    "import numpy as np\n",
    "import pandas as pd\n",
    "from sklearn import datasets\n",
    "from matplotlib import pyplot as plt\n",
    "import seaborn as sns"
   ]
  },
  {
   "cell_type": "markdown",
   "metadata": {},
   "source": [
    "### 加载数据"
   ]
  },
  {
   "cell_type": "code",
   "execution_count": 3,
   "metadata": {},
   "outputs": [],
   "source": [
    "iris = datasets.load_iris()"
   ]
  },
  {
   "cell_type": "code",
   "execution_count": 4,
   "metadata": {},
   "outputs": [],
   "source": [
    "iris_array = np.concatenate((iris['data'],iris['target'].reshape(150,1)),axis = 1) #改变iris['target']的shape"
   ]
  },
  {
   "cell_type": "code",
   "execution_count": 5,
   "metadata": {},
   "outputs": [],
   "source": [
    "iris = pd.DataFrame(iris_array,columns =['sepal length','sepal width','petal length','petal width','target']) \n",
    "#特征分别为：花萼长度，花萼宽度，花瓣长度，花瓣宽度 target 共有三个品种\n",
    "iris['target']=iris['target'].astype('int')\n",
    "iris.head()\n",
    "iris.to_csv('E:\\\\AnalystPersonal\\\\chenxiaoyan\\\\suanfa\\\\iris.csv',index = False) #读取出去，用sas进行分析"
   ]
  },
  {
   "cell_type": "markdown",
   "metadata": {},
   "source": [
    "### 认识数据"
   ]
  },
  {
   "cell_type": "code",
   "execution_count": 6,
   "metadata": {
    "scrolled": false
   },
   "outputs": [
    {
     "data": {
      "text/html": [
       "<div>\n",
       "<style scoped>\n",
       "    .dataframe tbody tr th:only-of-type {\n",
       "        vertical-align: middle;\n",
       "    }\n",
       "\n",
       "    .dataframe tbody tr th {\n",
       "        vertical-align: top;\n",
       "    }\n",
       "\n",
       "    .dataframe thead th {\n",
       "        text-align: right;\n",
       "    }\n",
       "</style>\n",
       "<table border=\"1\" class=\"dataframe\">\n",
       "  <thead>\n",
       "    <tr style=\"text-align: right;\">\n",
       "      <th></th>\n",
       "      <th>sepal length</th>\n",
       "      <th>sepal width</th>\n",
       "      <th>petal length</th>\n",
       "      <th>petal width</th>\n",
       "      <th>target</th>\n",
       "    </tr>\n",
       "  </thead>\n",
       "  <tbody>\n",
       "    <tr>\n",
       "      <th>count</th>\n",
       "      <td>150.000000</td>\n",
       "      <td>150.000000</td>\n",
       "      <td>150.000000</td>\n",
       "      <td>150.000000</td>\n",
       "      <td>150.000000</td>\n",
       "    </tr>\n",
       "    <tr>\n",
       "      <th>mean</th>\n",
       "      <td>5.843333</td>\n",
       "      <td>3.054000</td>\n",
       "      <td>3.758667</td>\n",
       "      <td>1.198667</td>\n",
       "      <td>1.000000</td>\n",
       "    </tr>\n",
       "    <tr>\n",
       "      <th>std</th>\n",
       "      <td>0.828066</td>\n",
       "      <td>0.433594</td>\n",
       "      <td>1.764420</td>\n",
       "      <td>0.763161</td>\n",
       "      <td>0.819232</td>\n",
       "    </tr>\n",
       "    <tr>\n",
       "      <th>min</th>\n",
       "      <td>4.300000</td>\n",
       "      <td>2.000000</td>\n",
       "      <td>1.000000</td>\n",
       "      <td>0.100000</td>\n",
       "      <td>0.000000</td>\n",
       "    </tr>\n",
       "    <tr>\n",
       "      <th>25%</th>\n",
       "      <td>5.100000</td>\n",
       "      <td>2.800000</td>\n",
       "      <td>1.600000</td>\n",
       "      <td>0.300000</td>\n",
       "      <td>0.000000</td>\n",
       "    </tr>\n",
       "    <tr>\n",
       "      <th>50%</th>\n",
       "      <td>5.800000</td>\n",
       "      <td>3.000000</td>\n",
       "      <td>4.350000</td>\n",
       "      <td>1.300000</td>\n",
       "      <td>1.000000</td>\n",
       "    </tr>\n",
       "    <tr>\n",
       "      <th>75%</th>\n",
       "      <td>6.400000</td>\n",
       "      <td>3.300000</td>\n",
       "      <td>5.100000</td>\n",
       "      <td>1.800000</td>\n",
       "      <td>2.000000</td>\n",
       "    </tr>\n",
       "    <tr>\n",
       "      <th>max</th>\n",
       "      <td>7.900000</td>\n",
       "      <td>4.400000</td>\n",
       "      <td>6.900000</td>\n",
       "      <td>2.500000</td>\n",
       "      <td>2.000000</td>\n",
       "    </tr>\n",
       "  </tbody>\n",
       "</table>\n",
       "</div>"
      ],
      "text/plain": [
       "       sepal length  sepal width  petal length  petal width      target\n",
       "count    150.000000   150.000000    150.000000   150.000000  150.000000\n",
       "mean       5.843333     3.054000      3.758667     1.198667    1.000000\n",
       "std        0.828066     0.433594      1.764420     0.763161    0.819232\n",
       "min        4.300000     2.000000      1.000000     0.100000    0.000000\n",
       "25%        5.100000     2.800000      1.600000     0.300000    0.000000\n",
       "50%        5.800000     3.000000      4.350000     1.300000    1.000000\n",
       "75%        6.400000     3.300000      5.100000     1.800000    2.000000\n",
       "max        7.900000     4.400000      6.900000     2.500000    2.000000"
      ]
     },
     "execution_count": 6,
     "metadata": {},
     "output_type": "execute_result"
    }
   ],
   "source": [
    "\n",
    "iris.shape\n",
    "iris.describe()"
   ]
  },
  {
   "cell_type": "code",
   "execution_count": 7,
   "metadata": {},
   "outputs": [
    {
     "data": {
      "text/plain": [
       "{0: Int64Index([ 0,  1,  2,  3,  4,  5,  6,  7,  8,  9, 10, 11, 12, 13, 14, 15, 16,\n",
       "             17, 18, 19, 20, 21, 22, 23, 24, 25, 26, 27, 28, 29, 30, 31, 32, 33,\n",
       "             34, 35, 36, 37, 38, 39, 40, 41, 42, 43, 44, 45, 46, 47, 48, 49],\n",
       "            dtype='int64'),\n",
       " 1: Int64Index([50, 51, 52, 53, 54, 55, 56, 57, 58, 59, 60, 61, 62, 63, 64, 65, 66,\n",
       "             67, 68, 69, 70, 71, 72, 73, 74, 75, 76, 77, 78, 79, 80, 81, 82, 83,\n",
       "             84, 85, 86, 87, 88, 89, 90, 91, 92, 93, 94, 95, 96, 97, 98, 99],\n",
       "            dtype='int64'),\n",
       " 2: Int64Index([100, 101, 102, 103, 104, 105, 106, 107, 108, 109, 110, 111, 112,\n",
       "             113, 114, 115, 116, 117, 118, 119, 120, 121, 122, 123, 124, 125,\n",
       "             126, 127, 128, 129, 130, 131, 132, 133, 134, 135, 136, 137, 138,\n",
       "             139, 140, 141, 142, 143, 144, 145, 146, 147, 148, 149],\n",
       "            dtype='int64')}"
      ]
     },
     "execution_count": 7,
     "metadata": {},
     "output_type": "execute_result"
    }
   ],
   "source": [
    "default = iris.groupby(by = 'target') #共有三类\n",
    "default.groups"
   ]
  },
  {
   "cell_type": "code",
   "execution_count": 8,
   "metadata": {},
   "outputs": [
    {
     "data": {
      "text/plain": [
       "[<matplotlib.lines.Line2D at 0xb51bc18>]"
      ]
     },
     "execution_count": 8,
     "metadata": {},
     "output_type": "execute_result"
    },
    {
     "data": {
      "image/png": "[encoded data removed]",
      "text/plain": [
       "<matplotlib.figure.Figure at 0xb0e5630>"
      ]
     },
     "metadata": {},
     "output_type": "display_data"
    }
   ],
   "source": [
    "#target 跟 每个变量之间的散点图\n",
    "plt.subplot(2,2,1)\n",
    "plt.plot(iris['sepal length'],iris['target'],'*')\n",
    "plt.subplot(2,2,2)\n",
    "plt.plot(iris['sepal width'],iris['target'],'--')\n",
    "plt.subplot(2,2,3)\n",
    "plt.plot(iris['petal length'],iris['target'],'-')\n",
    "plt.subplot(2,2,4)\n",
    "plt.plot(iris['petal width'],iris['target'],'o')"
   ]
  },
  {
   "cell_type": "code",
   "execution_count": 9,
   "metadata": {},
   "outputs": [
    {
     "data": {
      "text/plain": [
       "<seaborn.axisgrid.PairGrid at 0xb0c3a58>"
      ]
     },
     "execution_count": 9,
     "metadata": {},
     "output_type": "execute_result"
    },
    {
     "data": {
      "image/png": "[encoded data removed]",
      "text/plain": [
       "<matplotlib.figure.Figure at 0xb0c3b70>"
      ]
     },
     "metadata": {},
     "output_type": "display_data"
    }
   ],
   "source": [
    "# 四个特征之间的散点图矩阵\n",
    "sns.pairplot(iris.iloc[:,:4])"
   ]
  },
  {
   "cell_type": "markdown",
   "metadata": {},
   "source": [
    "### 数据处理 - 归一化"
   ]
  },
  {
   "cell_type": "code",
   "execution_count": 10,
   "metadata": {},
   "outputs": [
    {
     "data": {
      "text/html": [
       "<div>\n",
       "<style scoped>\n",
       "    .dataframe tbody tr th:only-of-type {\n",
       "        vertical-align: middle;\n",
       "    }\n",
       "\n",
       "    .dataframe tbody tr th {\n",
       "        vertical-align: top;\n",
       "    }\n",
       "\n",
       "    .dataframe thead th {\n",
       "        text-align: right;\n",
       "    }\n",
       "</style>\n",
       "<table border=\"1\" class=\"dataframe\">\n",
       "  <thead>\n",
       "    <tr style=\"text-align: right;\">\n",
       "      <th></th>\n",
       "      <th>sepal length</th>\n",
       "      <th>sepal width</th>\n",
       "      <th>petal length</th>\n",
       "      <th>petal width</th>\n",
       "      <th>target</th>\n",
       "    </tr>\n",
       "  </thead>\n",
       "  <tbody>\n",
       "    <tr>\n",
       "      <th>0</th>\n",
       "      <td>5.1</td>\n",
       "      <td>3.5</td>\n",
       "      <td>1.4</td>\n",
       "      <td>0.2</td>\n",
       "      <td>0</td>\n",
       "    </tr>\n",
       "    <tr>\n",
       "      <th>1</th>\n",
       "      <td>4.9</td>\n",
       "      <td>3.0</td>\n",
       "      <td>1.4</td>\n",
       "      <td>0.2</td>\n",
       "      <td>0</td>\n",
       "    </tr>\n",
       "    <tr>\n",
       "      <th>2</th>\n",
       "      <td>4.7</td>\n",
       "      <td>3.2</td>\n",
       "      <td>1.3</td>\n",
       "      <td>0.2</td>\n",
       "      <td>0</td>\n",
       "    </tr>\n",
       "    <tr>\n",
       "      <th>3</th>\n",
       "      <td>4.6</td>\n",
       "      <td>3.1</td>\n",
       "      <td>1.5</td>\n",
       "      <td>0.2</td>\n",
       "      <td>0</td>\n",
       "    </tr>\n",
       "    <tr>\n",
       "      <th>4</th>\n",
       "      <td>5.0</td>\n",
       "      <td>3.6</td>\n",
       "      <td>1.4</td>\n",
       "      <td>0.2</td>\n",
       "      <td>0</td>\n",
       "    </tr>\n",
       "  </tbody>\n",
       "</table>\n",
       "</div>"
      ],
      "text/plain": [
       "   sepal length  sepal width  petal length  petal width  target\n",
       "0           5.1          3.5           1.4          0.2       0\n",
       "1           4.9          3.0           1.4          0.2       0\n",
       "2           4.7          3.2           1.3          0.2       0\n",
       "3           4.6          3.1           1.5          0.2       0\n",
       "4           5.0          3.6           1.4          0.2       0"
      ]
     },
     "execution_count": 10,
     "metadata": {},
     "output_type": "execute_result"
    }
   ],
   "source": [
    "iris = pd.DataFrame(iris_array,columns =['sepal length','sepal width','petal length','petal width','target']) \n",
    "#特征分别为：花萼长度，花萼宽度，花瓣长度，花瓣宽度 target 共有三个品种\n",
    "iris['target']=iris['target'].astype('int')\n",
    "iris.head()"
   ]
  },
  {
   "cell_type": "code",
   "execution_count": 11,
   "metadata": {},
   "outputs": [],
   "source": [
    "a = iris.columns.drop('target')\n",
    "for col in iris.columns.drop('target'):\n",
    "    x = iris[col]\n",
    "    max = x.max()\n",
    "    min = x.min()\n",
    "    iris[col+'_z'] = (x-x.max())/(x.max()-x.min())\n",
    "iris = iris.drop(a,axis = 1)"
   ]
  },
  {
   "cell_type": "code",
   "execution_count": 12,
   "metadata": {},
   "outputs": [
    {
     "data": {
      "text/html": [
       "<div>\n",
       "<style scoped>\n",
       "    .dataframe tbody tr th:only-of-type {\n",
       "        vertical-align: middle;\n",
       "    }\n",
       "\n",
       "    .dataframe tbody tr th {\n",
       "        vertical-align: top;\n",
       "    }\n",
       "\n",
       "    .dataframe thead th {\n",
       "        text-align: right;\n",
       "    }\n",
       "</style>\n",
       "<table border=\"1\" class=\"dataframe\">\n",
       "  <thead>\n",
       "    <tr style=\"text-align: right;\">\n",
       "      <th></th>\n",
       "      <th>target</th>\n",
       "      <th>sepal length_z</th>\n",
       "      <th>sepal width_z</th>\n",
       "      <th>petal length_z</th>\n",
       "      <th>petal width_z</th>\n",
       "    </tr>\n",
       "  </thead>\n",
       "  <tbody>\n",
       "    <tr>\n",
       "      <th>0</th>\n",
       "      <td>0</td>\n",
       "      <td>-0.777778</td>\n",
       "      <td>-0.375000</td>\n",
       "      <td>-0.932203</td>\n",
       "      <td>-0.958333</td>\n",
       "    </tr>\n",
       "    <tr>\n",
       "      <th>1</th>\n",
       "      <td>0</td>\n",
       "      <td>-0.833333</td>\n",
       "      <td>-0.583333</td>\n",
       "      <td>-0.932203</td>\n",
       "      <td>-0.958333</td>\n",
       "    </tr>\n",
       "    <tr>\n",
       "      <th>2</th>\n",
       "      <td>0</td>\n",
       "      <td>-0.888889</td>\n",
       "      <td>-0.500000</td>\n",
       "      <td>-0.949153</td>\n",
       "      <td>-0.958333</td>\n",
       "    </tr>\n",
       "    <tr>\n",
       "      <th>3</th>\n",
       "      <td>0</td>\n",
       "      <td>-0.916667</td>\n",
       "      <td>-0.541667</td>\n",
       "      <td>-0.915254</td>\n",
       "      <td>-0.958333</td>\n",
       "    </tr>\n",
       "    <tr>\n",
       "      <th>4</th>\n",
       "      <td>0</td>\n",
       "      <td>-0.805556</td>\n",
       "      <td>-0.333333</td>\n",
       "      <td>-0.932203</td>\n",
       "      <td>-0.958333</td>\n",
       "    </tr>\n",
       "  </tbody>\n",
       "</table>\n",
       "</div>"
      ],
      "text/plain": [
       "   target  sepal length_z  sepal width_z  petal length_z  petal width_z\n",
       "0       0       -0.777778      -0.375000       -0.932203      -0.958333\n",
       "1       0       -0.833333      -0.583333       -0.932203      -0.958333\n",
       "2       0       -0.888889      -0.500000       -0.949153      -0.958333\n",
       "3       0       -0.916667      -0.541667       -0.915254      -0.958333\n",
       "4       0       -0.805556      -0.333333       -0.932203      -0.958333"
      ]
     },
     "execution_count": 12,
     "metadata": {},
     "output_type": "execute_result"
    }
   ],
   "source": [
    "iris.head()"
   ]
  },
  {
   "cell_type": "code",
   "execution_count": 13,
   "metadata": {
    "collapsed": true
   },
   "outputs": [
    {
     "name": "stdout",
     "output_type": "stream",
     "text": [
      "     sepal length_z  sepal width_z  petal length_z  petal width_z\n",
      "0         -0.777778      -0.375000       -0.932203      -0.958333\n",
      "1         -0.833333      -0.583333       -0.932203      -0.958333\n",
      "2         -0.888889      -0.500000       -0.949153      -0.958333\n",
      "3         -0.916667      -0.541667       -0.915254      -0.958333\n",
      "4         -0.805556      -0.333333       -0.932203      -0.958333\n",
      "5         -0.694444      -0.208333       -0.881356      -0.875000\n",
      "6         -0.916667      -0.416667       -0.932203      -0.916667\n",
      "7         -0.805556      -0.416667       -0.915254      -0.958333\n",
      "8         -0.972222      -0.625000       -0.932203      -0.958333\n",
      "9         -0.833333      -0.541667       -0.915254      -1.000000\n",
      "10        -0.694444      -0.291667       -0.915254      -0.958333\n",
      "11        -0.861111      -0.416667       -0.898305      -0.958333\n",
      "12        -0.861111      -0.583333       -0.932203      -1.000000\n",
      "13        -1.000000      -0.583333       -0.983051      -1.000000\n",
      "14        -0.583333      -0.166667       -0.966102      -0.958333\n",
      "15        -0.611111       0.000000       -0.915254      -0.875000\n",
      "16        -0.694444      -0.208333       -0.949153      -0.875000\n",
      "17        -0.777778      -0.375000       -0.932203      -0.916667\n",
      "18        -0.611111      -0.250000       -0.881356      -0.916667\n",
      "19        -0.777778      -0.250000       -0.915254      -0.916667\n",
      "20        -0.694444      -0.416667       -0.881356      -0.958333\n",
      "21        -0.777778      -0.291667       -0.915254      -0.875000\n",
      "22        -0.916667      -0.333333       -1.000000      -0.958333\n",
      "23        -0.777778      -0.458333       -0.881356      -0.833333\n",
      "24        -0.861111      -0.416667       -0.847458      -0.958333\n",
      "25        -0.805556      -0.583333       -0.898305      -0.958333\n",
      "26        -0.805556      -0.416667       -0.898305      -0.875000\n",
      "27        -0.750000      -0.375000       -0.915254      -0.958333\n",
      "28        -0.750000      -0.416667       -0.932203      -0.958333\n",
      "29        -0.888889      -0.500000       -0.898305      -0.958333\n",
      "..              ...            ...             ...            ...\n",
      "120       -0.277778      -0.500000       -0.203390      -0.083333\n",
      "121       -0.638889      -0.666667       -0.338983      -0.208333\n",
      "122       -0.055556      -0.666667       -0.033898      -0.208333\n",
      "123       -0.444444      -0.708333       -0.338983      -0.291667\n",
      "124       -0.333333      -0.458333       -0.203390      -0.166667\n",
      "125       -0.194444      -0.500000       -0.152542      -0.291667\n",
      "126       -0.472222      -0.666667       -0.355932      -0.291667\n",
      "127       -0.500000      -0.583333       -0.338983      -0.291667\n",
      "128       -0.416667      -0.666667       -0.220339      -0.166667\n",
      "129       -0.194444      -0.583333       -0.186441      -0.375000\n",
      "130       -0.138889      -0.666667       -0.135593      -0.250000\n",
      "131        0.000000      -0.250000       -0.084746      -0.208333\n",
      "132       -0.416667      -0.666667       -0.220339      -0.125000\n",
      "133       -0.444444      -0.666667       -0.305085      -0.416667\n",
      "134       -0.500000      -0.750000       -0.220339      -0.458333\n",
      "135       -0.055556      -0.583333       -0.135593      -0.083333\n",
      "136       -0.444444      -0.416667       -0.220339      -0.041667\n",
      "137       -0.416667      -0.541667       -0.237288      -0.291667\n",
      "138       -0.527778      -0.583333       -0.355932      -0.291667\n",
      "139       -0.277778      -0.541667       -0.254237      -0.166667\n",
      "140       -0.333333      -0.541667       -0.220339      -0.041667\n",
      "141       -0.277778      -0.541667       -0.305085      -0.083333\n",
      "142       -0.583333      -0.708333       -0.305085      -0.250000\n",
      "143       -0.305556      -0.500000       -0.169492      -0.083333\n",
      "144       -0.333333      -0.458333       -0.203390       0.000000\n",
      "145       -0.333333      -0.583333       -0.288136      -0.083333\n",
      "146       -0.444444      -0.791667       -0.322034      -0.250000\n",
      "147       -0.388889      -0.583333       -0.288136      -0.208333\n",
      "148       -0.472222      -0.416667       -0.254237      -0.083333\n",
      "149       -0.555556      -0.583333       -0.305085      -0.291667\n",
      "\n",
      "[150 rows x 4 columns] 0      0\n",
      "1      0\n",
      "2      0\n",
      "3      0\n",
      "4      0\n",
      "5      0\n",
      "6      0\n",
      "7      0\n",
      "8      0\n",
      "9      0\n",
      "10     0\n",
      "11     0\n",
      "12     0\n",
      "13     0\n",
      "14     0\n",
      "15     0\n",
      "16     0\n",
      "17     0\n",
      "18     0\n",
      "19     0\n",
      "20     0\n",
      "21     0\n",
      "22     0\n",
      "23     0\n",
      "24     0\n",
      "25     0\n",
      "26     0\n",
      "27     0\n",
      "28     0\n",
      "29     0\n",
      "      ..\n",
      "120    2\n",
      "121    2\n",
      "122    2\n",
      "123    2\n",
      "124    2\n",
      "125    2\n",
      "126    2\n",
      "127    2\n",
      "128    2\n",
      "129    2\n",
      "130    2\n",
      "131    2\n",
      "132    2\n",
      "133    2\n",
      "134    2\n",
      "135    2\n",
      "136    2\n",
      "137    2\n",
      "138    2\n",
      "139    2\n",
      "140    2\n",
      "141    2\n",
      "142    2\n",
      "143    2\n",
      "144    2\n",
      "145    2\n",
      "146    2\n",
      "147    2\n",
      "148    2\n",
      "149    2\n",
      "Name: target, Length: 150, dtype: int32\n"
     ]
    }
   ],
   "source": [
    "iris_X = iris.iloc[:,1:5]\n",
    "iris_Y = iris.iloc[:,0]\n",
    "print(iris_X,iris_Y)"
   ]
  },
  {
   "cell_type": "markdown",
   "metadata": {},
   "source": [
    "### 交叉验证拆分数据 — 分层K折交叉验证"
   ]
  },
  {
   "cell_type": "code",
   "execution_count": 14,
   "metadata": {},
   "outputs": [],
   "source": [
    "import numpy as np \n",
    "from sklearn.model_selection import KFold,StratifiedKFold"
   ]
  },
  {
   "cell_type": "markdown",
   "metadata": {},
   "source": [
    "#### 利用StratifiedKFold函数"
   ]
  },
  {
   "cell_type": "code",
   "execution_count": 15,
   "metadata": {},
   "outputs": [],
   "source": [
    "train_cv = []\n",
    "test_cv = []\n",
    "sfolder = StratifiedKFold(n_splits=5,random_state=1,shuffle=True) # shuffle-True/False 每次拆分数据之前是否重新打乱顺序 \n",
    "                                                                   #random_state表示随机数种子，设置同一个整数，结果一样，设置不同整数，结果不同，默认不设置时，会随机选取\n",
    "for train, test in sfolder.split(iris_X,iris_Y): #通过split 产生的数据集时原数据集的索引\n",
    "    train_cv.append(train)\n",
    "    test_cv.append(test)\n",
    "   # print('Train: %s | test: %s' % (train_cv, test_cv))\n",
    "   # print(\" \")\n",
    "#print(train_cv)\n"
   ]
  },
  {
   "cell_type": "markdown",
   "metadata": {},
   "source": [
    "#### KFold 和 StratifiedKFold的区别在于，一个是分层K折，一个是y随机分K折"
   ]
  },
  {
   "cell_type": "code",
   "execution_count": 14,
   "metadata": {},
   "outputs": [],
   "source": [
    "floder = KFold(n_splits=5,random_state=1,shuffle=False)\n",
    "for train, test in sfolder.split(iris_X,iris_Y): #通过split 产生的数据集时原数据集的索引\n",
    "    train_cv.append(train)\n",
    "    test_cv.append(test)\n",
    "   # print('Train: %s | test: %s' % (train_cv, test_cv))\n",
    "   # print(\" \")\n",
    "#print(train_cv)"
   ]
  },
  {
   "cell_type": "markdown",
   "metadata": {},
   "source": [
    "#### 利用StratifiedShuffleSplit函数"
   ]
  },
  {
   "cell_type": "code",
   "execution_count": 16,
   "metadata": {},
   "outputs": [],
   "source": [
    "from sklearn.model_selection import StratifiedShuffleSplit\n",
    "fold=StratifiedShuffleSplit(n_splits=5,test_size=0.2,random_state=1)#分成5组，测试比例为0.2，训练比例是0.8\n",
    "train_cv=[]\n",
    "test_cv = []\n",
    "for train_index, test_index in fold.split(iris_X,iris_Y):\n",
    "    train_cv.append(train_index)\n",
    "    test_cv.append(test_index)"
   ]
  },
  {
   "cell_type": "markdown",
   "metadata": {},
   "source": [
    "##### 计算欧式距离"
   ]
  },
  {
   "cell_type": "code",
   "execution_count": 16,
   "metadata": {
    "collapsed": true
   },
   "outputs": [
    {
     "data": {
      "text/html": [
       "<div>\n",
       "<style scoped>\n",
       "    .dataframe tbody tr th:only-of-type {\n",
       "        vertical-align: middle;\n",
       "    }\n",
       "\n",
       "    .dataframe tbody tr th {\n",
       "        vertical-align: top;\n",
       "    }\n",
       "\n",
       "    .dataframe thead th {\n",
       "        text-align: right;\n",
       "    }\n",
       "</style>\n",
       "<table border=\"1\" class=\"dataframe\">\n",
       "  <thead>\n",
       "    <tr style=\"text-align: right;\">\n",
       "      <th></th>\n",
       "      <th>target</th>\n",
       "      <th>sepal length_z</th>\n",
       "      <th>sepal width_z</th>\n",
       "      <th>petal length_z</th>\n",
       "      <th>petal width_z</th>\n",
       "    </tr>\n",
       "  </thead>\n",
       "  <tbody>\n",
       "    <tr>\n",
       "      <th>0</th>\n",
       "      <td>0</td>\n",
       "      <td>-0.777778</td>\n",
       "      <td>-0.375000</td>\n",
       "      <td>-0.932203</td>\n",
       "      <td>-0.958333</td>\n",
       "    </tr>\n",
       "    <tr>\n",
       "      <th>5</th>\n",
       "      <td>0</td>\n",
       "      <td>-0.694444</td>\n",
       "      <td>-0.208333</td>\n",
       "      <td>-0.881356</td>\n",
       "      <td>-0.875000</td>\n",
       "    </tr>\n",
       "    <tr>\n",
       "      <th>8</th>\n",
       "      <td>0</td>\n",
       "      <td>-0.972222</td>\n",
       "      <td>-0.625000</td>\n",
       "      <td>-0.932203</td>\n",
       "      <td>-0.958333</td>\n",
       "    </tr>\n",
       "    <tr>\n",
       "      <th>9</th>\n",
       "      <td>0</td>\n",
       "      <td>-0.833333</td>\n",
       "      <td>-0.541667</td>\n",
       "      <td>-0.915254</td>\n",
       "      <td>-1.000000</td>\n",
       "    </tr>\n",
       "    <tr>\n",
       "      <th>11</th>\n",
       "      <td>0</td>\n",
       "      <td>-0.861111</td>\n",
       "      <td>-0.416667</td>\n",
       "      <td>-0.898305</td>\n",
       "      <td>-0.958333</td>\n",
       "    </tr>\n",
       "    <tr>\n",
       "      <th>12</th>\n",
       "      <td>0</td>\n",
       "      <td>-0.861111</td>\n",
       "      <td>-0.583333</td>\n",
       "      <td>-0.932203</td>\n",
       "      <td>-1.000000</td>\n",
       "    </tr>\n",
       "    <tr>\n",
       "      <th>15</th>\n",
       "      <td>0</td>\n",
       "      <td>-0.611111</td>\n",
       "      <td>0.000000</td>\n",
       "      <td>-0.915254</td>\n",
       "      <td>-0.875000</td>\n",
       "    </tr>\n",
       "    <tr>\n",
       "      <th>16</th>\n",
       "      <td>0</td>\n",
       "      <td>-0.694444</td>\n",
       "      <td>-0.208333</td>\n",
       "      <td>-0.949153</td>\n",
       "      <td>-0.875000</td>\n",
       "    </tr>\n",
       "    <tr>\n",
       "      <th>37</th>\n",
       "      <td>0</td>\n",
       "      <td>-0.833333</td>\n",
       "      <td>-0.541667</td>\n",
       "      <td>-0.915254</td>\n",
       "      <td>-1.000000</td>\n",
       "    </tr>\n",
       "    <tr>\n",
       "      <th>43</th>\n",
       "      <td>0</td>\n",
       "      <td>-0.805556</td>\n",
       "      <td>-0.375000</td>\n",
       "      <td>-0.898305</td>\n",
       "      <td>-0.791667</td>\n",
       "    </tr>\n",
       "    <tr>\n",
       "      <th>50</th>\n",
       "      <td>1</td>\n",
       "      <td>-0.250000</td>\n",
       "      <td>-0.500000</td>\n",
       "      <td>-0.372881</td>\n",
       "      <td>-0.458333</td>\n",
       "    </tr>\n",
       "    <tr>\n",
       "      <th>55</th>\n",
       "      <td>1</td>\n",
       "      <td>-0.611111</td>\n",
       "      <td>-0.666667</td>\n",
       "      <td>-0.406780</td>\n",
       "      <td>-0.500000</td>\n",
       "    </tr>\n",
       "    <tr>\n",
       "      <th>58</th>\n",
       "      <td>1</td>\n",
       "      <td>-0.361111</td>\n",
       "      <td>-0.625000</td>\n",
       "      <td>-0.389831</td>\n",
       "      <td>-0.500000</td>\n",
       "    </tr>\n",
       "    <tr>\n",
       "      <th>59</th>\n",
       "      <td>1</td>\n",
       "      <td>-0.750000</td>\n",
       "      <td>-0.708333</td>\n",
       "      <td>-0.508475</td>\n",
       "      <td>-0.458333</td>\n",
       "    </tr>\n",
       "    <tr>\n",
       "      <th>61</th>\n",
       "      <td>1</td>\n",
       "      <td>-0.555556</td>\n",
       "      <td>-0.583333</td>\n",
       "      <td>-0.457627</td>\n",
       "      <td>-0.416667</td>\n",
       "    </tr>\n",
       "    <tr>\n",
       "      <th>62</th>\n",
       "      <td>1</td>\n",
       "      <td>-0.527778</td>\n",
       "      <td>-0.916667</td>\n",
       "      <td>-0.491525</td>\n",
       "      <td>-0.625000</td>\n",
       "    </tr>\n",
       "    <tr>\n",
       "      <th>65</th>\n",
       "      <td>1</td>\n",
       "      <td>-0.333333</td>\n",
       "      <td>-0.541667</td>\n",
       "      <td>-0.423729</td>\n",
       "      <td>-0.458333</td>\n",
       "    </tr>\n",
       "    <tr>\n",
       "      <th>66</th>\n",
       "      <td>1</td>\n",
       "      <td>-0.638889</td>\n",
       "      <td>-0.583333</td>\n",
       "      <td>-0.406780</td>\n",
       "      <td>-0.416667</td>\n",
       "    </tr>\n",
       "    <tr>\n",
       "      <th>87</th>\n",
       "      <td>1</td>\n",
       "      <td>-0.444444</td>\n",
       "      <td>-0.875000</td>\n",
       "      <td>-0.423729</td>\n",
       "      <td>-0.500000</td>\n",
       "    </tr>\n",
       "    <tr>\n",
       "      <th>93</th>\n",
       "      <td>1</td>\n",
       "      <td>-0.805556</td>\n",
       "      <td>-0.875000</td>\n",
       "      <td>-0.610169</td>\n",
       "      <td>-0.625000</td>\n",
       "    </tr>\n",
       "    <tr>\n",
       "      <th>100</th>\n",
       "      <td>2</td>\n",
       "      <td>-0.444444</td>\n",
       "      <td>-0.458333</td>\n",
       "      <td>-0.152542</td>\n",
       "      <td>0.000000</td>\n",
       "    </tr>\n",
       "    <tr>\n",
       "      <th>105</th>\n",
       "      <td>2</td>\n",
       "      <td>-0.083333</td>\n",
       "      <td>-0.583333</td>\n",
       "      <td>-0.050847</td>\n",
       "      <td>-0.166667</td>\n",
       "    </tr>\n",
       "    <tr>\n",
       "      <th>108</th>\n",
       "      <td>2</td>\n",
       "      <td>-0.333333</td>\n",
       "      <td>-0.791667</td>\n",
       "      <td>-0.186441</td>\n",
       "      <td>-0.291667</td>\n",
       "    </tr>\n",
       "    <tr>\n",
       "      <th>109</th>\n",
       "      <td>2</td>\n",
       "      <td>-0.194444</td>\n",
       "      <td>-0.333333</td>\n",
       "      <td>-0.135593</td>\n",
       "      <td>0.000000</td>\n",
       "    </tr>\n",
       "    <tr>\n",
       "      <th>111</th>\n",
       "      <td>2</td>\n",
       "      <td>-0.416667</td>\n",
       "      <td>-0.708333</td>\n",
       "      <td>-0.271186</td>\n",
       "      <td>-0.250000</td>\n",
       "    </tr>\n",
       "    <tr>\n",
       "      <th>112</th>\n",
       "      <td>2</td>\n",
       "      <td>-0.305556</td>\n",
       "      <td>-0.583333</td>\n",
       "      <td>-0.237288</td>\n",
       "      <td>-0.166667</td>\n",
       "    </tr>\n",
       "    <tr>\n",
       "      <th>115</th>\n",
       "      <td>2</td>\n",
       "      <td>-0.416667</td>\n",
       "      <td>-0.500000</td>\n",
       "      <td>-0.271186</td>\n",
       "      <td>-0.083333</td>\n",
       "    </tr>\n",
       "    <tr>\n",
       "      <th>116</th>\n",
       "      <td>2</td>\n",
       "      <td>-0.388889</td>\n",
       "      <td>-0.583333</td>\n",
       "      <td>-0.237288</td>\n",
       "      <td>-0.291667</td>\n",
       "    </tr>\n",
       "    <tr>\n",
       "      <th>137</th>\n",
       "      <td>2</td>\n",
       "      <td>-0.416667</td>\n",
       "      <td>-0.541667</td>\n",
       "      <td>-0.237288</td>\n",
       "      <td>-0.291667</td>\n",
       "    </tr>\n",
       "    <tr>\n",
       "      <th>143</th>\n",
       "      <td>2</td>\n",
       "      <td>-0.305556</td>\n",
       "      <td>-0.500000</td>\n",
       "      <td>-0.169492</td>\n",
       "      <td>-0.083333</td>\n",
       "    </tr>\n",
       "  </tbody>\n",
       "</table>\n",
       "</div>"
      ],
      "text/plain": [
       "     target  sepal length_z  sepal width_z  petal length_z  petal width_z\n",
       "0         0       -0.777778      -0.375000       -0.932203      -0.958333\n",
       "5         0       -0.694444      -0.208333       -0.881356      -0.875000\n",
       "8         0       -0.972222      -0.625000       -0.932203      -0.958333\n",
       "9         0       -0.833333      -0.541667       -0.915254      -1.000000\n",
       "11        0       -0.861111      -0.416667       -0.898305      -0.958333\n",
       "12        0       -0.861111      -0.583333       -0.932203      -1.000000\n",
       "15        0       -0.611111       0.000000       -0.915254      -0.875000\n",
       "16        0       -0.694444      -0.208333       -0.949153      -0.875000\n",
       "37        0       -0.833333      -0.541667       -0.915254      -1.000000\n",
       "43        0       -0.805556      -0.375000       -0.898305      -0.791667\n",
       "50        1       -0.250000      -0.500000       -0.372881      -0.458333\n",
       "55        1       -0.611111      -0.666667       -0.406780      -0.500000\n",
       "58        1       -0.361111      -0.625000       -0.389831      -0.500000\n",
       "59        1       -0.750000      -0.708333       -0.508475      -0.458333\n",
       "61        1       -0.555556      -0.583333       -0.457627      -0.416667\n",
       "62        1       -0.527778      -0.916667       -0.491525      -0.625000\n",
       "65        1       -0.333333      -0.541667       -0.423729      -0.458333\n",
       "66        1       -0.638889      -0.583333       -0.406780      -0.416667\n",
       "87        1       -0.444444      -0.875000       -0.423729      -0.500000\n",
       "93        1       -0.805556      -0.875000       -0.610169      -0.625000\n",
       "100       2       -0.444444      -0.458333       -0.152542       0.000000\n",
       "105       2       -0.083333      -0.583333       -0.050847      -0.166667\n",
       "108       2       -0.333333      -0.791667       -0.186441      -0.291667\n",
       "109       2       -0.194444      -0.333333       -0.135593       0.000000\n",
       "111       2       -0.416667      -0.708333       -0.271186      -0.250000\n",
       "112       2       -0.305556      -0.583333       -0.237288      -0.166667\n",
       "115       2       -0.416667      -0.500000       -0.271186      -0.083333\n",
       "116       2       -0.388889      -0.583333       -0.237288      -0.291667\n",
       "137       2       -0.416667      -0.541667       -0.237288      -0.291667\n",
       "143       2       -0.305556      -0.500000       -0.169492      -0.083333"
      ]
     },
     "execution_count": 16,
     "metadata": {},
     "output_type": "execute_result"
    }
   ],
   "source": [
    "train_cv1 = iris.iloc[train_cv[4],:]\n",
    "test_cv1 = iris.iloc[test_cv[4],:]\n",
    "train_target = train_cv1[[ 'target']]\n",
    "test_target = test_cv1[['target']]\n",
    "test_target = test_target.reset_index(drop = True)\n",
    "test_cv1"
   ]
  },
  {
   "cell_type": "code",
   "execution_count": 386,
   "metadata": {},
   "outputs": [],
   "source": [
    "#train_cv1['dist1']= np.sqrt(np.sum(np.square(test_cv1.iloc[0,1:5]-train_cv1.iloc[:,1:5]),axis = 1)) #第一个test样本与train所有样本的距离\n",
    "#train_cv1['dist'] = np.linalg.norm(test_cv1.iloc[0,1:5]-train_cv1.iloc[:,1:5],axis = 1)"
   ]
  },
  {
   "cell_type": "code",
   "execution_count": 17,
   "metadata": {},
   "outputs": [
    {
     "name": "stderr",
     "output_type": "stream",
     "text": [
      "D:\\Program Files\\Anaconda3\\lib\\site-packages\\ipykernel_launcher.py:8: SettingWithCopyWarning: \n",
      "A value is trying to be set on a copy of a slice from a DataFrame.\n",
      "Try using .loc[row_indexer,col_indexer] = value instead\n",
      "\n",
      "See the caveats in the documentation: http://pandas.pydata.org/pandas-docs/stable/indexing.html#indexing-view-versus-copy\n",
      "  \n",
      "D:\\Program Files\\Anaconda3\\lib\\site-packages\\ipykernel_launcher.py:24: SettingWithCopyWarning: \n",
      "A value is trying to be set on a copy of a slice from a DataFrame\n",
      "\n",
      "See the caveats in the documentation: http://pandas.pydata.org/pandas-docs/stable/indexing.html#indexing-view-versus-copy\n",
      "D:\\Program Files\\Anaconda3\\lib\\site-packages\\ipykernel_launcher.py:26: SettingWithCopyWarning: \n",
      "A value is trying to be set on a copy of a slice from a DataFrame\n",
      "\n",
      "See the caveats in the documentation: http://pandas.pydata.org/pandas-docs/stable/indexing.html#indexing-view-versus-copy\n"
     ]
    }
   ],
   "source": [
    "# 循环- 计算第一折数据test中的每个样本与train中每个样本的距离；然后分别对每一个test样本距离排序，\n",
    "#统计每一个样本预测的类，将所有样本的类统计为一个列表，为target_yc,并与test原始target进行比较，得出误差率\n",
    "error_lv = []\n",
    "#target_yc = []\n",
    "for k in range(1,len(train_cv1)): #邻居个数的选择\n",
    "    target_yc = []\n",
    "    for n in range(0,len(test_cv1)):\n",
    "        train_target['distance']= np.sqrt(np.sum(np.square(test_cv1.iloc[n,1:5]-train_cv1.iloc[:,1:5]),axis = 1)) #第一个test样本与train所有样本的距离\n",
    "        dist_sort = train_target.sort_values(by = 'distance') #距离排序\n",
    "        count = pd.DataFrame(dist_sort['target'].head(k).value_counts()) #计算在前K个距离中每个类的个数\n",
    "        max = count['target'].max() #计算前K个距离中每个类的数量\n",
    "        target_yc1 = [count[count.target == max].index.tolist()[0]] #target_yc1为预测的每一个test样本的类\n",
    "        #target_yc1 = count[count.target == max].index.tolist()\n",
    "        target_yc.append(target_yc1)#target_yc为预测所有test样本的类\n",
    "    target_yc = pd.DataFrame(target_yc,columns = None) #将list转为dataframe格式\n",
    "    #train_cv1['id'] = np.arange(1,train_cv1.shape[0] + 1)\n",
    "    target_yc = target_yc.rename(columns = {0:'target_yc'})#修改列名\n",
    "    error = pd.concat([target_yc,test_target],axis = 1)#将原始数据和预测的合并\n",
    "    error['error'] = np.nan                            #增加一列error，初始值设置为缺失\n",
    "    \n",
    "    \n",
    "    for i,j,z in zip(error['target_yc'],error['target'],range(0,len(error))): \n",
    "        if i == j:\n",
    "            error['error'][z] = 0\n",
    "        else:\n",
    "            error['error'][z] = 1\n",
    "    error_lv1 = sum(error['error']==1)/len(error) #计算每一个K下的误差率\n",
    "    error_lv.append(error_lv1)\n",
    "    #error_type = error['error'+str(k)].astype(dtype = 'int32')\n",
    "    #error['error'+str(k)] = error_type\n",
    "#print(error_lv)"
   ]
  },
  {
   "cell_type": "code",
   "execution_count": 201,
   "metadata": {},
   "outputs": [
    {
     "data": {
      "text/html": [
       "<div>\n",
       "<style scoped>\n",
       "    .dataframe tbody tr th:only-of-type {\n",
       "        vertical-align: middle;\n",
       "    }\n",
       "\n",
       "    .dataframe tbody tr th {\n",
       "        vertical-align: top;\n",
       "    }\n",
       "\n",
       "    .dataframe thead th {\n",
       "        text-align: right;\n",
       "    }\n",
       "</style>\n",
       "<table border=\"1\" class=\"dataframe\">\n",
       "  <thead>\n",
       "    <tr style=\"text-align: right;\">\n",
       "      <th></th>\n",
       "      <th>target_yc</th>\n",
       "    </tr>\n",
       "  </thead>\n",
       "  <tbody>\n",
       "    <tr>\n",
       "      <th>0</th>\n",
       "      <td>0</td>\n",
       "    </tr>\n",
       "    <tr>\n",
       "      <th>1</th>\n",
       "      <td>0</td>\n",
       "    </tr>\n",
       "    <tr>\n",
       "      <th>2</th>\n",
       "      <td>0</td>\n",
       "    </tr>\n",
       "    <tr>\n",
       "      <th>3</th>\n",
       "      <td>0</td>\n",
       "    </tr>\n",
       "    <tr>\n",
       "      <th>4</th>\n",
       "      <td>0</td>\n",
       "    </tr>\n",
       "    <tr>\n",
       "      <th>5</th>\n",
       "      <td>0</td>\n",
       "    </tr>\n",
       "    <tr>\n",
       "      <th>6</th>\n",
       "      <td>0</td>\n",
       "    </tr>\n",
       "    <tr>\n",
       "      <th>7</th>\n",
       "      <td>0</td>\n",
       "    </tr>\n",
       "    <tr>\n",
       "      <th>8</th>\n",
       "      <td>0</td>\n",
       "    </tr>\n",
       "    <tr>\n",
       "      <th>9</th>\n",
       "      <td>0</td>\n",
       "    </tr>\n",
       "    <tr>\n",
       "      <th>10</th>\n",
       "      <td>1</td>\n",
       "    </tr>\n",
       "    <tr>\n",
       "      <th>11</th>\n",
       "      <td>1</td>\n",
       "    </tr>\n",
       "    <tr>\n",
       "      <th>12</th>\n",
       "      <td>1</td>\n",
       "    </tr>\n",
       "    <tr>\n",
       "      <th>13</th>\n",
       "      <td>1</td>\n",
       "    </tr>\n",
       "    <tr>\n",
       "      <th>14</th>\n",
       "      <td>1</td>\n",
       "    </tr>\n",
       "    <tr>\n",
       "      <th>15</th>\n",
       "      <td>1</td>\n",
       "    </tr>\n",
       "    <tr>\n",
       "      <th>16</th>\n",
       "      <td>1</td>\n",
       "    </tr>\n",
       "    <tr>\n",
       "      <th>17</th>\n",
       "      <td>1</td>\n",
       "    </tr>\n",
       "    <tr>\n",
       "      <th>18</th>\n",
       "      <td>1</td>\n",
       "    </tr>\n",
       "    <tr>\n",
       "      <th>19</th>\n",
       "      <td>1</td>\n",
       "    </tr>\n",
       "    <tr>\n",
       "      <th>20</th>\n",
       "      <td>2</td>\n",
       "    </tr>\n",
       "    <tr>\n",
       "      <th>21</th>\n",
       "      <td>2</td>\n",
       "    </tr>\n",
       "    <tr>\n",
       "      <th>22</th>\n",
       "      <td>2</td>\n",
       "    </tr>\n",
       "    <tr>\n",
       "      <th>23</th>\n",
       "      <td>2</td>\n",
       "    </tr>\n",
       "    <tr>\n",
       "      <th>24</th>\n",
       "      <td>2</td>\n",
       "    </tr>\n",
       "    <tr>\n",
       "      <th>25</th>\n",
       "      <td>2</td>\n",
       "    </tr>\n",
       "    <tr>\n",
       "      <th>26</th>\n",
       "      <td>2</td>\n",
       "    </tr>\n",
       "    <tr>\n",
       "      <th>27</th>\n",
       "      <td>2</td>\n",
       "    </tr>\n",
       "    <tr>\n",
       "      <th>28</th>\n",
       "      <td>2</td>\n",
       "    </tr>\n",
       "    <tr>\n",
       "      <th>29</th>\n",
       "      <td>2</td>\n",
       "    </tr>\n",
       "  </tbody>\n",
       "</table>\n",
       "</div>"
      ],
      "text/plain": [
       "    target_yc\n",
       "0           0\n",
       "1           0\n",
       "2           0\n",
       "3           0\n",
       "4           0\n",
       "5           0\n",
       "6           0\n",
       "7           0\n",
       "8           0\n",
       "9           0\n",
       "10          1\n",
       "11          1\n",
       "12          1\n",
       "13          1\n",
       "14          1\n",
       "15          1\n",
       "16          1\n",
       "17          1\n",
       "18          1\n",
       "19          1\n",
       "20          2\n",
       "21          2\n",
       "22          2\n",
       "23          2\n",
       "24          2\n",
       "25          2\n",
       "26          2\n",
       "27          2\n",
       "28          2\n",
       "29          2"
      ]
     },
     "execution_count": 201,
     "metadata": {},
     "output_type": "execute_result"
    }
   ],
   "source": [
    "target_yc"
   ]
  },
  {
   "cell_type": "markdown",
   "metadata": {},
   "source": [
    "# 利用Python自带函数封装包来实现"
   ]
  },
  {
   "cell_type": "code",
   "execution_count": 155,
   "metadata": {},
   "outputs": [],
   "source": [
    "from sklearn import datasets\n",
    "from sklearn.model_selection import train_test_split\n",
    "from sklearn.neighbors import KNeighborsClassifier"
   ]
  },
  {
   "cell_type": "code",
   "execution_count": 156,
   "metadata": {},
   "outputs": [],
   "source": [
    "iris = datasets.load_iris()\n",
    "iris_X = iris.data\n",
    "iris_y = iris.target"
   ]
  },
  {
   "cell_type": "code",
   "execution_count": 157,
   "metadata": {
    "collapsed": true
   },
   "outputs": [
    {
     "data": {
      "text/plain": [
       "array([[4.9, 3. , 1.4, 0.2],\n",
       "       [6.1, 2.8, 4. , 1.3],\n",
       "       [6.9, 3.2, 5.7, 2.3],\n",
       "       [4.8, 3.1, 1.6, 0.2],\n",
       "       [4.7, 3.2, 1.3, 0.2],\n",
       "       [6.3, 2.5, 5. , 1.9],\n",
       "       [6.3, 3.3, 4.7, 1.6],\n",
       "       [5.9, 3. , 4.2, 1.5],\n",
       "       [6. , 2.7, 5.1, 1.6],\n",
       "       [4.6, 3.6, 1. , 0.2],\n",
       "       [4.6, 3.1, 1.5, 0.2],\n",
       "       [4.8, 3.4, 1.6, 0.2],\n",
       "       [5.4, 3.7, 1.5, 0.2],\n",
       "       [6.4, 3.2, 5.3, 2.3],\n",
       "       [4.8, 3.4, 1.9, 0.2],\n",
       "       [4.6, 3.2, 1.4, 0.2],\n",
       "       [5.5, 4.2, 1.4, 0.2],\n",
       "       [6.7, 3. , 5. , 1.7],\n",
       "       [5.7, 3. , 4.2, 1.2],\n",
       "       [4.4, 2.9, 1.4, 0.2],\n",
       "       [5.1, 3.8, 1.6, 0.2],\n",
       "       [4.9, 2.5, 4.5, 1.7],\n",
       "       [5.8, 2.8, 5.1, 2.4],\n",
       "       [5.5, 2.3, 4. , 1.3],\n",
       "       [7.1, 3. , 5.9, 2.1],\n",
       "       [6.3, 2.9, 5.6, 1.8],\n",
       "       [6.6, 3. , 4.4, 1.4],\n",
       "       [6.7, 3. , 5.2, 2.3],\n",
       "       [6.2, 2.2, 4.5, 1.5],\n",
       "       [5. , 3.6, 1.4, 0.2],\n",
       "       [4.3, 3. , 1.1, 0.1],\n",
       "       [5.2, 2.7, 3.9, 1.4],\n",
       "       [5.1, 3.5, 1.4, 0.3],\n",
       "       [5.1, 3.8, 1.5, 0.3],\n",
       "       [5.7, 4.4, 1.5, 0.4],\n",
       "       [6.6, 2.9, 4.6, 1.3],\n",
       "       [5.1, 3.5, 1.4, 0.2],\n",
       "       [7.7, 3. , 6.1, 2.3],\n",
       "       [6.8, 3.2, 5.9, 2.3],\n",
       "       [5.5, 2.5, 4. , 1.3],\n",
       "       [5.8, 2.7, 5.1, 1.9],\n",
       "       [6.4, 2.8, 5.6, 2.1],\n",
       "       [6.9, 3.1, 5.1, 2.3],\n",
       "       [5.5, 2.4, 3.8, 1.1],\n",
       "       [4.4, 3.2, 1.3, 0.2],\n",
       "       [7. , 3.2, 4.7, 1.4],\n",
       "       [6.5, 3. , 5.2, 2. ],\n",
       "       [6.3, 2.3, 4.4, 1.3],\n",
       "       [6.4, 2.8, 5.6, 2.2],\n",
       "       [4.4, 3. , 1.3, 0.2],\n",
       "       [6.8, 2.8, 4.8, 1.4],\n",
       "       [6.7, 2.5, 5.8, 1.8],\n",
       "       [7.7, 3.8, 6.7, 2.2],\n",
       "       [5.2, 3.4, 1.4, 0.2],\n",
       "       [7.2, 3. , 5.8, 1.6],\n",
       "       [5.8, 2.6, 4. , 1.2],\n",
       "       [4.5, 2.3, 1.3, 0.3],\n",
       "       [5.7, 2.6, 3.5, 1. ],\n",
       "       [5.5, 3.5, 1.3, 0.2],\n",
       "       [6. , 2.2, 4. , 1. ],\n",
       "       [6.4, 2.7, 5.3, 1.9],\n",
       "       [6.5, 3. , 5.8, 2.2],\n",
       "       [5.4, 3.4, 1.5, 0.4],\n",
       "       [6.1, 3. , 4.9, 1.8],\n",
       "       [5.7, 2.8, 4.1, 1.3],\n",
       "       [6.2, 3.4, 5.4, 2.3],\n",
       "       [5.1, 3.4, 1.5, 0.2],\n",
       "       [6.4, 3.2, 4.5, 1.5],\n",
       "       [5.7, 2.5, 5. , 2. ],\n",
       "       [5.1, 3.3, 1.7, 0.5],\n",
       "       [5.8, 2.7, 3.9, 1.2],\n",
       "       [5.5, 2.4, 3.7, 1. ],\n",
       "       [6.7, 3.1, 4.7, 1.5],\n",
       "       [6. , 3.4, 4.5, 1.6],\n",
       "       [7.3, 2.9, 6.3, 1.8],\n",
       "       [5.6, 3. , 4.1, 1.3],\n",
       "       [6.1, 2.9, 4.7, 1.4],\n",
       "       [5.1, 3.7, 1.5, 0.4],\n",
       "       [5. , 3.4, 1.6, 0.4],\n",
       "       [5.4, 3. , 4.5, 1.5],\n",
       "       [6.8, 3. , 5.5, 2.1],\n",
       "       [6.4, 2.9, 4.3, 1.3],\n",
       "       [6.3, 2.7, 4.9, 1.8],\n",
       "       [6. , 2.9, 4.5, 1.5],\n",
       "       [5.6, 2.8, 4.9, 2. ],\n",
       "       [5.8, 2.7, 5.1, 1.9],\n",
       "       [6.3, 3.4, 5.6, 2.4],\n",
       "       [7.4, 2.8, 6.1, 1.9],\n",
       "       [4.9, 3.1, 1.5, 0.1],\n",
       "       [4.9, 2.4, 3.3, 1. ],\n",
       "       [5. , 3.3, 1.4, 0.2],\n",
       "       [5.3, 3.7, 1.5, 0.2],\n",
       "       [6.2, 2.9, 4.3, 1.3],\n",
       "       [6.3, 2.5, 4.9, 1.5],\n",
       "       [6.5, 2.8, 4.6, 1.5],\n",
       "       [5.4, 3.9, 1.7, 0.4],\n",
       "       [7.2, 3.2, 6. , 1.8],\n",
       "       [5.9, 3.2, 4.8, 1.8],\n",
       "       [6.9, 3.1, 4.9, 1.5],\n",
       "       [4.9, 3.1, 1.5, 0.1],\n",
       "       [6.1, 2.8, 4.7, 1.2],\n",
       "       [5. , 2. , 3.5, 1. ],\n",
       "       [6.1, 2.6, 5.6, 1.4],\n",
       "       [5. , 3.4, 1.5, 0.2],\n",
       "       [5.9, 3. , 5.1, 1.8],\n",
       "       [5. , 3.2, 1.2, 0.2],\n",
       "       [7.2, 3.6, 6.1, 2.5],\n",
       "       [5.2, 3.5, 1.5, 0.2],\n",
       "       [6.7, 3.3, 5.7, 2.1],\n",
       "       [6.7, 3.3, 5.7, 2.5],\n",
       "       [5.2, 4.1, 1.5, 0.1],\n",
       "       [6.2, 2.8, 4.8, 1.8],\n",
       "       [6. , 3. , 4.8, 1.8],\n",
       "       [5.6, 2.7, 4.2, 1.3],\n",
       "       [4.6, 3.4, 1.4, 0.3],\n",
       "       [6. , 2.2, 5. , 1.5],\n",
       "       [5.8, 4. , 1.2, 0.2],\n",
       "       [5.4, 3.9, 1.3, 0.4],\n",
       "       [7.6, 3. , 6.6, 2.1],\n",
       "       [5.8, 2.7, 4.1, 1. ]])"
      ]
     },
     "execution_count": 157,
     "metadata": {},
     "output_type": "execute_result"
    }
   ],
   "source": [
    "# 利用train_test_split进行训练集和测试机进行分开，test_size占30%\n",
    "X_train,X_test,y_train,y_test=train_test_split(iris_X,iris_y,test_size=0.2,stratify = iris_y) # stratify 按照类比例进行分割\n",
    "X_train"
   ]
  },
  {
   "cell_type": "markdown",
   "metadata": {},
   "source": [
    "### 可引入交叉验证选出误差率最小的K"
   ]
  },
  {
   "cell_type": "code",
   "execution_count": 176,
   "metadata": {},
   "outputs": [
    {
     "data": {
      "text/plain": [
       "KNeighborsClassifier(algorithm='auto', leaf_size=30, metric='minkowski',\n",
       "           metric_params=None, n_jobs=1, n_neighbors=100, p=2,\n",
       "           weights='uniform')"
      ]
     },
     "execution_count": 176,
     "metadata": {},
     "output_type": "execute_result"
    }
   ],
   "source": [
    "knn = KNeighborsClassifier(n_neighbors = 100) #引入函数 n_neighbors通过交叉验证来确定\n",
    "knn"
   ]
  },
  {
   "cell_type": "code",
   "execution_count": 177,
   "metadata": {},
   "outputs": [
    {
     "data": {
      "text/plain": [
       "KNeighborsClassifier(algorithm='auto', leaf_size=30, metric='minkowski',\n",
       "           metric_params=None, n_jobs=1, n_neighbors=100, p=2,\n",
       "           weights='uniform')"
      ]
     },
     "execution_count": 177,
     "metadata": {},
     "output_type": "execute_result"
    }
   ],
   "source": [
    "knn.fit(X_train,y_train)  #训练集训练模型"
   ]
  },
  {
   "cell_type": "code",
   "execution_count": 178,
   "metadata": {},
   "outputs": [],
   "source": [
    "params = knn.get_params()"
   ]
  },
  {
   "cell_type": "code",
   "execution_count": 179,
   "metadata": {},
   "outputs": [
    {
     "name": "stdout",
     "output_type": "stream",
     "text": [
      "预测得分为：0.6\n"
     ]
    }
   ],
   "source": [
    "score = knn.score(X_test,y_test)\n",
    "print(\"预测得分为：%s\"%score)"
   ]
  },
  {
   "cell_type": "code",
   "execution_count": 429,
   "metadata": {},
   "outputs": [
    {
     "name": "stdout",
     "output_type": "stream",
     "text": [
      "TRAIN: [5 2 6 4 1 3] TEST: [7 0]\n",
      "TRAIN: [4 3 5 2 7 1] TEST: [6 0]\n",
      "TRAIN: [7 1 6 2 0 4] TEST: [5 3]\n",
      "TRAIN: [3 6 4 7 0 5] TEST: [1 2]\n",
      "TRAIN: [3 4 1 7 2 0] TEST: [6 5]\n"
     ]
    }
   ],
   "source": [
    "from sklearn.model_selection import StratifiedShuffleSplit\n",
    "import numpy as np\n",
    "X = np.array([[1, 2], [3, 4], [1, 2], [3, 4],\n",
    "              [1, 2],[3, 4], [1, 2], [3, 4]])#训练数据集8*2\n",
    "y = np.array([0, 0, 1, 1,0,0,1,1])#类别数据集8*1\n",
    "\n",
    "ss=StratifiedShuffleSplit(n_splits=5,test_size=0.25,train_size=0.75,random_state=0)#分成5组，测试比例为0.25，训练比例是0.75\n",
    "\n",
    "for train_index, test_index in ss.split(X, y):\n",
    "    print(\"TRAIN:\", train_index, \"TEST:\", test_index)#获得索引值\n"
   ]
  },
  {
   "cell_type": "code",
   "execution_count": 440,
   "metadata": {},
   "outputs": [
    {
     "data": {
      "text/plain": [
       "[5, 2, 6, 4, 1, 3]"
      ]
     },
     "execution_count": 440,
     "metadata": {},
     "output_type": "execute_result"
    }
   ],
   "source": [
    "#X_train, X_test = X[train_index], X[test_index]#训练集对应的值\n",
    "train_index  = list(train_index)\n",
    "train_index"
   ]
  },
  {
   "cell_type": "code",
   "execution_count": 455,
   "metadata": {},
   "outputs": [],
   "source": [
    "train=[]\n",
    "test = []\n",
    "for train_index, test_index in ss.split(X, y):\n",
    "    train.append(train_index)\n",
    "    test.append(test_index)"
   ]
  },
  {
   "cell_type": "code",
   "execution_count": 457,
   "metadata": {},
   "outputs": [
    {
     "data": {
      "text/plain": [
       "[array([5, 2, 6, 4, 1, 3], dtype=int64),\n",
       " array([4, 3, 5, 2, 7, 1], dtype=int64),\n",
       " array([7, 1, 6, 2, 0, 4], dtype=int64),\n",
       " array([3, 6, 4, 7, 0, 5], dtype=int64),\n",
       " array([3, 4, 1, 7, 2, 0], dtype=int64)]"
      ]
     },
     "execution_count": 457,
     "metadata": {},
     "output_type": "execute_result"
    }
   ],
   "source": [
    "train"
   ]
  },
  {
   "cell_type": "code",
   "execution_count": 458,
   "metadata": {},
   "outputs": [
    {
     "data": {
      "text/plain": [
       "[array([7, 0], dtype=int64),\n",
       " array([6, 0], dtype=int64),\n",
       " array([5, 3], dtype=int64),\n",
       " array([1, 2], dtype=int64),\n",
       " array([6, 5], dtype=int64)]"
      ]
     },
     "execution_count": 458,
     "metadata": {},
     "output_type": "execute_result"
    }
   ],
   "source": [
    "test"
   ]
  }
 ],
 "metadata": {
  "kernelspec": {
   "display_name": "Python 3",
   "language": "python",
   "name": "python3"
  },
  "language_info": {
   "codemirror_mode": {
    "name": "ipython",
    "version": 3
   },
   "file_extension": ".py",
   "mimetype": "text/x-python",
   "name": "python",
   "nbconvert_exporter": "python",
   "pygments_lexer": "ipython3",
   "version": "3.6.4"
  }
 },
 "nbformat": 4,
 "nbformat_minor": 2
}
