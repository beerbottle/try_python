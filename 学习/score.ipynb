{
 "cells": [
  {
   "cell_type": "code",
   "execution_count": null,
   "metadata": {},
   "outputs": [],
   "source": [
    "import os\n",
    "import pandas as pd\n",
    "import numpy as np\n",
    "%matplotlib inline "
   ]
  },
  {
   "cell_type": "code",
   "execution_count": null,
   "metadata": {},
   "outputs": [],
   "source": [
    "def score_ys(data,p,middle_score,outlier_pct,score_):\n",
    "    score_cutoff=np.mean(data[p]) #平均预测概率，假设平均预测概率=实际坏账率\n",
    "    score_cutoff=np.log(score_cutoff/(1-score_cutoff)) #平均预测概率对应的logodds值\n",
    "    middle_score=middle_score #可比分数\n",
    "    outlier_pct = outlier_pct #极端值临界点\n",
    "    data['odd']=np.log(data[p]/(1-data[p])) #logodds值\n",
    "    max_odds =np.percentile(data['odd'],100-outlier_pct)#99分位点对应的logodds值\n",
    "    min_odds=np.percentile(data['odd'],outlier_pct)#1分位点对应的logodds值\n",
    "    max_p=np.percentile(data[p],100-outlier_pct)#99分位点对应的P值\n",
    "    min_p=np.percentile(data[p],outlier_pct)#1分位点对应的p值\n",
    "    ##第一段公式\n",
    "    b1 =(900-850)/(0-min_p)\n",
    "    l1 = b1*data[p] + 900\n",
    "    ##第二段公式\n",
    "    b2 = (850-middle_score)/(min_odds -score_cutoff )\n",
    "    a2 = middle_score - b2 * score_cutoff\n",
    "    l2 = a2 + b2 * data['odd']\n",
    "    ##第三段公式\n",
    "    b3 = (middle_score-350)/(score_cutoff -max_odds )\n",
    "    a3 = middle_score - b3 * score_cutoff\n",
    "    l3 = a3 + b3 * data['odd']\n",
    "    ##第四段公式\n",
    "    b4 = (350-300)/(max_p-1)\n",
    "    a4 = 300-b4\n",
    "    l4 = a4+b4*data[p]\n",
    "    data[score_]=np.where(data['odd']<=score_cutoff,l2,l3)\n",
    "    data[score_]=np.where(data['odd']> max_odds,l4,data[score_])\n",
    "    data[score_]=np.where(data['odd']<min_odds ,l1,data[score_])\n",
    "    data[score_].hist(bins=30)#分数的直方图\n",
    "    \n",
    "    x1 = score[(score.odd <= min_odds)]\n",
    "    x2 = score[(score.odd > min_odds) & (score.odd<=score_cutoff)]\n",
    "    x3 =  score[(score.odd > score_cutoff) & (score.odd<=max_odds)]\n",
    "    x4 = score[(score.odd > max_odds)]\n",
    "    \n",
    "    fig = plt.figure(figsize=(12,8))\n",
    "    #ax1 = fig.add_subplot(111)\n",
    "    plt.plot(x1.phat,x1.score_,'or--',label = u'l1')\n",
    "    plt.plot(x2.phat,x2.score_,'bs',label = u'l2')\n",
    "    plt.plot(x3.phat,x3.score_,'gs',label = u'l3')\n",
    "    plt.plot(x4.phat,x4.score_,'oy-',label = u'l4')\n",
    "    plt.legend()"
   ]
  }
 ],
 "metadata": {
  "kernelspec": {
   "display_name": "Python 3",
   "language": "python",
   "name": "python3"
  },
  "language_info": {
   "codemirror_mode": {
    "name": "ipython",
    "version": 3
   },
   "file_extension": ".py",
   "mimetype": "text/x-python",
   "name": "python",
   "nbconvert_exporter": "python",
   "pygments_lexer": "ipython3",
   "version": "3.6.4"
  }
 },
 "nbformat": 4,
 "nbformat_minor": 2
}
