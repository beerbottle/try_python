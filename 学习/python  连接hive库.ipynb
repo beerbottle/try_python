{
 "cells": [
  {
   "cell_type": "code",
   "execution_count": null,
   "metadata": {},
   "outputs": [],
   "source": [
    "import json\n",
    "from pyhive import hive\n",
    "#import sasl\n",
    "import thrift_sasl"
   ]
  },
  {
   "cell_type": "code",
   "execution_count": 7,
   "metadata": {},
   "outputs": [
    {
     "ename": "ModuleNotFoundError",
     "evalue": "No module named 'sasl'",
     "output_type": "error",
     "traceback": [
      "\u001b[1;31m---------------------------------------------------------------------------\u001b[0m",
      "\u001b[1;31mModuleNotFoundError\u001b[0m                       Traceback (most recent call last)",
      "\u001b[1;32m<ipython-input-7-e601d7ebcf9f>\u001b[0m in \u001b[0;36m<module>\u001b[1;34m()\u001b[0m\n\u001b[1;32m----> 1\u001b[1;33m \u001b[0msel_conn\u001b[0m \u001b[1;33m=\u001b[0m \u001b[0mhive\u001b[0m\u001b[1;33m.\u001b[0m\u001b[0mconnect\u001b[0m\u001b[1;33m(\u001b[0m\u001b[0mhost\u001b[0m\u001b[1;33m=\u001b[0m\u001b[1;34m'10.100.12.18'\u001b[0m\u001b[1;33m,\u001b[0m \u001b[0mport\u001b[0m\u001b[1;33m=\u001b[0m\u001b[1;36m10000\u001b[0m\u001b[1;33m,\u001b[0m \u001b[0musername\u001b[0m\u001b[1;33m=\u001b[0m\u001b[1;34m'username'\u001b[0m\u001b[1;33m,\u001b[0m \u001b[0mdatabase\u001b[0m\u001b[1;33m=\u001b[0m\u001b[1;34m'dm_fk'\u001b[0m\u001b[1;33m,\u001b[0m\u001b[0mauth\u001b[0m\u001b[1;33m=\u001b[0m\u001b[1;34m'CUSTOM'\u001b[0m\u001b[1;33m,\u001b[0m\u001b[0mpassword\u001b[0m\u001b[1;33m=\u001b[0m\u001b[1;34m'pwd'\u001b[0m\u001b[1;33m)\u001b[0m\u001b[1;33m\u001b[0m\u001b[0m\n\u001b[0m",
      "\u001b[1;32mD:\\Program Files\\Anaconda3\\lib\\site-packages\\pyhive\\hive.py\u001b[0m in \u001b[0;36mconnect\u001b[1;34m(*args, **kwargs)\u001b[0m\n\u001b[0;32m     92\u001b[0m     \u001b[1;33m:\u001b[0m\u001b[0mreturns\u001b[0m\u001b[1;33m:\u001b[0m \u001b[0ma\u001b[0m \u001b[1;33m:\u001b[0m\u001b[0mpy\u001b[0m\u001b[1;33m:\u001b[0m\u001b[1;32mclass\u001b[0m\u001b[1;33m:\u001b[0m\u001b[0;31m`\u001b[0m\u001b[0mConnection\u001b[0m\u001b[0;31m`\u001b[0m \u001b[0mobject\u001b[0m\u001b[1;33m.\u001b[0m\u001b[1;33m\u001b[0m\u001b[0m\n\u001b[0;32m     93\u001b[0m     \"\"\"\n\u001b[1;32m---> 94\u001b[1;33m     \u001b[1;32mreturn\u001b[0m \u001b[0mConnection\u001b[0m\u001b[1;33m(\u001b[0m\u001b[1;33m*\u001b[0m\u001b[0margs\u001b[0m\u001b[1;33m,\u001b[0m \u001b[1;33m**\u001b[0m\u001b[0mkwargs\u001b[0m\u001b[1;33m)\u001b[0m\u001b[1;33m\u001b[0m\u001b[0m\n\u001b[0m\u001b[0;32m     95\u001b[0m \u001b[1;33m\u001b[0m\u001b[0m\n\u001b[0;32m     96\u001b[0m \u001b[1;33m\u001b[0m\u001b[0m\n",
      "\u001b[1;32mD:\\Program Files\\Anaconda3\\lib\\site-packages\\pyhive\\hive.py\u001b[0m in \u001b[0;36m__init__\u001b[1;34m(self, host, port, username, database, auth, configuration, kerberos_service_name, password, thrift_transport)\u001b[0m\n\u001b[0;32m    150\u001b[0m             \u001b[1;32melif\u001b[0m \u001b[0mauth\u001b[0m \u001b[1;32min\u001b[0m \u001b[1;33m(\u001b[0m\u001b[1;34m'LDAP'\u001b[0m\u001b[1;33m,\u001b[0m \u001b[1;34m'KERBEROS'\u001b[0m\u001b[1;33m,\u001b[0m \u001b[1;34m'NONE'\u001b[0m\u001b[1;33m,\u001b[0m \u001b[1;34m'CUSTOM'\u001b[0m\u001b[1;33m)\u001b[0m\u001b[1;33m:\u001b[0m\u001b[1;33m\u001b[0m\u001b[0m\n\u001b[0;32m    151\u001b[0m                 \u001b[1;31m# Defer import so package dependency is optional\u001b[0m\u001b[1;33m\u001b[0m\u001b[1;33m\u001b[0m\u001b[0m\n\u001b[1;32m--> 152\u001b[1;33m                 \u001b[1;32mimport\u001b[0m \u001b[0msasl\u001b[0m\u001b[1;33m\u001b[0m\u001b[0m\n\u001b[0m\u001b[0;32m    153\u001b[0m                 \u001b[1;32mimport\u001b[0m \u001b[0mthrift_sasl\u001b[0m\u001b[1;33m\u001b[0m\u001b[0m\n\u001b[0;32m    154\u001b[0m \u001b[1;33m\u001b[0m\u001b[0m\n",
      "\u001b[1;31mModuleNotFoundError\u001b[0m: No module named 'sasl'"
     ]
    }
   ],
   "source": [
    "sel_conn = hive.connect(host='10.100.12.18', port=10000, username='username', database='dm_fk',auth='CUSTOM',password='pwd')"
   ]
  },
  {
   "cell_type": "code",
   "execution_count": null,
   "metadata": {},
   "outputs": [],
   "source": [
    "sel_cursor = sel_conn.cursor()\n",
    "sel_cursor.execute('select account_number, repay_detail from dp_ods.o_plf_crm_account_info_by_day_s where etl_date=\\'2019-08-29\\'  limit 3')\n",
    "\n",
    "ins_conn = hive.connect(host='10.100.12.18', port=10000, username='username', database='dm_fk',auth='CUSTOM',password='pwd')\n",
    "ins_cursor = ins_conn.cursor()"
   ]
  },
  {
   "cell_type": "code",
   "execution_count": null,
   "metadata": {},
   "outputs": [],
   "source": [
    "Num_of_contract = 0\n",
    "for result in sel_cursor.fetchall():\n",
    "    Num_of_contract = Num_of_contract + 1\n",
    "    repay_detail = result[1]  \n",
    "    repay_detail_d=json.loads(repay_detail) \n",
    "    keys1 = repay_detail_d.keys() \n",
    "    keys1.sort(key=int) \n",
    "\n",
    "    one_record = \"insert into dm_fk.tmp_mis_account_repay_detail \" \\\n",
    "                    + \"(contr_num,qishu,already_fee,already_fwf,already_fx,already_lx,already_wyj,already_znj,\" \\\n",
    "                    + \"bill_date,bj,days,fa_xi_of_day,fee,fwf,fx,lx,\" \\\n",
    "                    + \"must_bj,must_fee,must_fwf,must_fx,must_lx,must_wyj,must_znj,wyj,znj) \" \\\n",
    "                    + \"values \" \n",
    "    record_num = 0\n",
    "    for tk1 in keys1:\n",
    "        record_num = record_num + 1\n",
    "        keys2 = repay_detail_d[tk1].keys()\n",
    "        keys2.sort()\n",
    "        \n",
    "        if record_num <>  1 :\n",
    "            one_record = one_record + \",\"\n",
    "        \n",
    "        one_record = one_record + \"(\\'\" + result[0] + \"\\'\"\n",
    "        one_record = one_record + \",\" + str(repay_detail_d[tk1]['qishu'])\n",
    "        one_record = one_record + \",\" + str(repay_detail_d[tk1]['already_fee']) \n",
    "        one_record = one_record + \",\" + str(repay_detail_d[tk1]['already_fwf']) \n",
    "        one_record = one_record + \",\" + str(repay_detail_d[tk1]['already_fx']) \n",
    "        one_record = one_record + \",\" + str(repay_detail_d[tk1]['already_lx']) \n",
    "        one_record = one_record + \",\" + str(repay_detail_d[tk1]['already_wyj']) \n",
    "        one_record = one_record + \",\" + str(repay_detail_d[tk1]['already_znj']) \n",
    "        one_record = one_record + \",\\'\"   + repay_detail_d[tk1]['bill_date']+\"\\'\" \n",
    "        one_record = one_record + \",\" + str(repay_detail_d[tk1]['bj']) \n",
    "        one_record = one_record + \",\" + str(repay_detail_d[tk1]['days']) \n",
    "        one_record = one_record + \",\" + str(repay_detail_d[tk1]['fa_xi_of_day']) \n",
    "        one_record = one_record + \",\" + str(repay_detail_d[tk1]['fee']) \n",
    "        one_record = one_record + \",\" + str(repay_detail_d[tk1]['fwf']) \n",
    "        one_record = one_record + \",\" + str(repay_detail_d[tk1]['fx']) \n",
    "        one_record = one_record + \",\" + str(repay_detail_d[tk1]['lx']) \n",
    "        one_record = one_record + \",\" + str(repay_detail_d[tk1]['must_bj']) \n",
    "        one_record = one_record + \",\" + str(repay_detail_d[tk1]['must_fee']) \n",
    "        one_record = one_record + \",\" + str(repay_detail_d[tk1]['must_fwf']) \n",
    "        one_record = one_record + \",\" + str(repay_detail_d[tk1]['must_fx']) \n",
    "        one_record = one_record + \",\" + str(repay_detail_d[tk1]['must_lx']) \n",
    "        one_record = one_record + \",\" + str(repay_detail_d[tk1]['must_wyj']) \n",
    "        one_record = one_record + \",\" + str(repay_detail_d[tk1]['must_znj']) \n",
    "        one_record = one_record + \",\" + str(repay_detail_d[tk1]['wyj']) \n",
    "        one_record = one_record + \",\" + str(repay_detail_d[tk1]['znj']) \n",
    "        one_record = one_record + \") \\n\"\n",
    "    print one_record\n",
    "    \n",
    "    ins_cursor.execute(one_record) \n",
    "\n",
    "    print (\"[\"+result[0]  + \"] has \" + str(record_num) +\" repay records. \"+ str(Num_of_contract) + \" contracts finished !\\n\"  )"
   ]
  }
 ],
 "metadata": {
  "kernelspec": {
   "display_name": "Python 3",
   "language": "python",
   "name": "python3"
  },
  "language_info": {
   "codemirror_mode": {
    "name": "ipython",
    "version": 3
   },
   "file_extension": ".py",
   "mimetype": "text/x-python",
   "name": "python",
   "nbconvert_exporter": "python",
   "pygments_lexer": "ipython3",
   "version": "3.6.4"
  }
 },
 "nbformat": 4,
 "nbformat_minor": 2
}
