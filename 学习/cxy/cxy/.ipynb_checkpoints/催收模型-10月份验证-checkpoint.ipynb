{
 "cells": [
  {
   "cell_type": "code",
   "execution_count": 5,
   "metadata": {},
   "outputs": [],
   "source": [
    "from sklearn import metrics\n",
    "from statsmodels.stats.outliers_influence import variance_inflation_factor\n",
    "import numpy as np\n",
    "from sklearn import ensemble\n",
    "from sklearn.model_selection import KFold\n",
    "from sklearn.model_selection import train_test_split\n",
    "from sklearn.linear_model import LogisticRegression\n",
    "from sklearn.metrics import classification_report\n",
    "import pandas as pd\n",
    "import scipy\n",
    "from scipy.stats import chi2\n",
    "import matplotlib.pyplot as plt\n",
    "from sklearn.utils.multiclass import type_of_target\n",
    "from scipy import stats\n",
    "import xgboost as xgb\n",
    "from sklearn.metrics import auc,roc_curve,roc_auc_score\n",
    "from sklearn.externals import joblib\n",
    "import graphviz\n",
    "%matplotlib inline "
   ]
  },
  {
   "cell_type": "code",
   "execution_count": 6,
   "metadata": {},
   "outputs": [],
   "source": [
    "import os\n",
    "os.chdir(r'E:\\AnalystPersonal\\chenxiaoyan\\催收\\催收929\\xgboost')"
   ]
  },
  {
   "cell_type": "code",
   "execution_count": 18,
   "metadata": {},
   "outputs": [],
   "source": [
    "oot = pd.read_csv('oot_10.csv',na_values =['',' ','.','-1','-2'],engine='python')"
   ]
  },
  {
   "cell_type": "code",
   "execution_count": 19,
   "metadata": {
    "scrolled": true
   },
   "outputs": [],
   "source": [
    "#oot['zl'].astype('int64')"
   ]
  },
  {
   "cell_type": "code",
   "execution_count": 20,
   "metadata": {},
   "outputs": [
    {
     "name": "stdout",
     "output_type": "stream",
     "text": [
      "(42451, 10)\n",
      "0    0.827001\n",
      "1    0.172999\n",
      "Name: default, dtype: float64\n"
     ]
    }
   ],
   "source": [
    "#分账龄建模 - m1-m2 - 使用相同变量\n",
    "oot_m12 = oot[oot['zl'].isin([1,2])][['default','zl','last_pay_days','self_FR_get_SR_get_prop_6m','self_FR_get_SR_get_prop_tt',\n",
    "            'recent_first_days','fp_camt_pct','o_interest','o_total_amount','return_amt']]\n",
    "print(oot_m12.shape)\n",
    "print(oot_m12['default'].value_counts(normalize=True))"
   ]
  },
  {
   "cell_type": "code",
   "execution_count": 21,
   "metadata": {},
   "outputs": [],
   "source": [
    "booster= joblib.load(r'm12.m')"
   ]
  },
  {
   "cell_type": "code",
   "execution_count": 22,
   "metadata": {},
   "outputs": [],
   "source": [
    "xgb_oot = xgb.DMatrix(oot_m12[oot_m12.drop(['default','zl','o_total_amount','return_amt'],axis=1).columns],label=oot_m12.default)"
   ]
  },
  {
   "cell_type": "code",
   "execution_count": 23,
   "metadata": {},
   "outputs": [],
   "source": [
    "def report_performance(preds, y,cutoff = 0.5):\n",
    "    ks =  stats.ks_2samp(preds[y==1], preds[y!=1]).statistic\n",
    "    gini =  metrics.roc_auc_score(y,preds)*2 - 1.0\n",
    "    accuracy = metrics.accuracy_score(y, np.where(preds > cutoff,1,0))\n",
    "    recall = metrics.recall_score(y, np.where(preds > cutoff,1,0))\n",
    "    precision = metrics.precision_score(y, np.where(preds > cutoff,1,0))\n",
    "    cm = metrics.confusion_matrix(y, np.where(preds > cutoff,1,0)) \n",
    "    # fpr, tpr, thresholds = metrics.roc_curve(y,preds) \n",
    "    auc = metrics.roc_auc_score(y,preds)\n",
    "    # roc_auc = metrics.auc(fpr,tpr)\n",
    "    print('=======================report=================')\n",
    "    print('Gini is: %-.5f \\t KS is: %-.5f \\t accuracy: %-.5f \\t Precision: %-.5f \\t Recall:%-.5f \\t AUC:%-.5f' % (gini, ks, accuracy,precision,recall,auc))\n",
    "    print('confusion matrix:')\n",
    "    print(cm)"
   ]
  },
  {
   "cell_type": "code",
   "execution_count": 24,
   "metadata": {},
   "outputs": [
    {
     "name": "stdout",
     "output_type": "stream",
     "text": [
      "=======================report=================\n",
      "Gini is: 0.29900 \t KS is: 0.22080 \t accuracy: 0.82700 \t Precision: 0.00000 \t Recall:0.00000 \t AUC:0.64950\n",
      "confusion matrix:\n",
      "[[35107     0]\n",
      " [ 7344     0]]\n"
     ]
    },
    {
     "name": "stderr",
     "output_type": "stream",
     "text": [
      "D:\\Program Files\\Anaconda3\\lib\\site-packages\\sklearn\\metrics\\classification.py:1135: UndefinedMetricWarning: Precision is ill-defined and being set to 0.0 due to no predicted samples.\n",
      "  'precision', 'predicted', average, warn_for)\n"
     ]
    }
   ],
   "source": [
    "preds=booster.predict(xgb_oot,ntree_limit = booster.best_ntree_limit)\n",
    "report_performance(preds, oot_m12.default)"
   ]
  },
  {
   "cell_type": "markdown",
   "metadata": {},
   "source": [
    "### 计算z值"
   ]
  },
  {
   "cell_type": "code",
   "execution_count": null,
   "metadata": {},
   "outputs": [],
   "source": []
  },
  {
   "cell_type": "code",
   "execution_count": null,
   "metadata": {},
   "outputs": [],
   "source": []
  },
  {
   "cell_type": "markdown",
   "metadata": {},
   "source": [
    "## M3-M6"
   ]
  },
  {
   "cell_type": "code",
   "execution_count": 25,
   "metadata": {},
   "outputs": [],
   "source": [
    "booster= joblib.load(r'm36.m')"
   ]
  },
  {
   "cell_type": "code",
   "execution_count": 26,
   "metadata": {},
   "outputs": [],
   "source": [
    "oot_m36 = oot[oot['zl'].isin ([3,4,5,6])][['default','zl','last_pay_days','self_FR_get_SR_get_prop_6m','self_FR_get_SR_get_prop_tt',\n",
    "            'recent_first_days','fp_camt_pct','o_interest','o_total_amount','return_amt']]"
   ]
  },
  {
   "cell_type": "code",
   "execution_count": 27,
   "metadata": {},
   "outputs": [
    {
     "name": "stdout",
     "output_type": "stream",
     "text": [
      "(69991, 10)\n",
      "0    0.972596\n",
      "1    0.027404\n",
      "Name: default, dtype: float64\n"
     ]
    }
   ],
   "source": [
    "print(oot_m36.shape)\n",
    "print(oot_m36['default'].value_counts(normalize=True))"
   ]
  },
  {
   "cell_type": "code",
   "execution_count": 28,
   "metadata": {},
   "outputs": [],
   "source": [
    "booster= joblib.load(r'm36.m')"
   ]
  },
  {
   "cell_type": "code",
   "execution_count": 29,
   "metadata": {},
   "outputs": [],
   "source": [
    "xgb_oot = xgb.DMatrix(oot_m36[oot_m36.drop(['default','zl','o_total_amount','return_amt'],axis=1).columns],label=oot_m36.default)"
   ]
  },
  {
   "cell_type": "code",
   "execution_count": 30,
   "metadata": {},
   "outputs": [
    {
     "name": "stdout",
     "output_type": "stream",
     "text": [
      "=======================report=================\n",
      "Gini is: 0.50719 \t KS is: 0.37537 \t accuracy: 0.97260 \t Precision: 0.00000 \t Recall:0.00000 \t AUC:0.75359\n",
      "confusion matrix:\n",
      "[[68073     0]\n",
      " [ 1918     0]]\n"
     ]
    },
    {
     "name": "stderr",
     "output_type": "stream",
     "text": [
      "D:\\Program Files\\Anaconda3\\lib\\site-packages\\sklearn\\metrics\\classification.py:1135: UndefinedMetricWarning: Precision is ill-defined and being set to 0.0 due to no predicted samples.\n",
      "  'precision', 'predicted', average, warn_for)\n"
     ]
    }
   ],
   "source": [
    "preds=booster.predict(xgb_oot,ntree_limit = booster.best_ntree_limit)\n",
    "report_performance(preds, oot_m36.default)"
   ]
  },
  {
   "cell_type": "code",
   "execution_count": null,
   "metadata": {},
   "outputs": [],
   "source": []
  },
  {
   "cell_type": "markdown",
   "metadata": {},
   "source": [
    "## M7+"
   ]
  },
  {
   "cell_type": "code",
   "execution_count": 31,
   "metadata": {},
   "outputs": [],
   "source": [
    "booster= joblib.load(r'm7.m')"
   ]
  },
  {
   "cell_type": "code",
   "execution_count": 32,
   "metadata": {},
   "outputs": [],
   "source": [
    "oot_m7 = oot[oot['zl']>6][['default','zl','last_pay_days','self_FR_get_SR_get_prop_6m','self_FR_get_SR_get_prop_tt',\n",
    "            'recent_first_days','fp_camt_pct','o_interest','o_total_amount','return_amt']]"
   ]
  },
  {
   "cell_type": "code",
   "execution_count": 33,
   "metadata": {},
   "outputs": [
    {
     "name": "stdout",
     "output_type": "stream",
     "text": [
      "(750230, 10)\n",
      "0    0.994363\n",
      "1    0.005637\n",
      "Name: default, dtype: float64\n"
     ]
    }
   ],
   "source": [
    "print(oot_m7.shape)\n",
    "print(oot_m7['default'].value_counts(normalize=True))"
   ]
  },
  {
   "cell_type": "code",
   "execution_count": 35,
   "metadata": {},
   "outputs": [],
   "source": [
    "xgb_oot = xgb.DMatrix(oot_m7[oot_m7.drop(['default','zl','o_total_amount','return_amt'],axis=1).columns],label=oot_m7.default)"
   ]
  },
  {
   "cell_type": "code",
   "execution_count": 36,
   "metadata": {},
   "outputs": [
    {
     "name": "stderr",
     "output_type": "stream",
     "text": [
      "D:\\Program Files\\Anaconda3\\lib\\site-packages\\sklearn\\metrics\\classification.py:1135: UndefinedMetricWarning: Precision is ill-defined and being set to 0.0 due to no predicted samples.\n",
      "  'precision', 'predicted', average, warn_for)\n"
     ]
    },
    {
     "name": "stdout",
     "output_type": "stream",
     "text": [
      "=======================report=================\n",
      "Gini is: 0.63567 \t KS is: 0.50489 \t accuracy: 0.99436 \t Precision: 0.00000 \t Recall:0.00000 \t AUC:0.81783\n",
      "confusion matrix:\n",
      "[[746001      0]\n",
      " [  4229      0]]\n"
     ]
    }
   ],
   "source": [
    "preds=booster.predict(xgb_oot,ntree_limit = booster.best_ntree_limit)\n",
    "report_performance(preds, oot_m7.default)"
   ]
  },
  {
   "cell_type": "code",
   "execution_count": null,
   "metadata": {},
   "outputs": [],
   "source": []
  }
 ],
 "metadata": {
  "kernelspec": {
   "display_name": "Python 3",
   "language": "python",
   "name": "python3"
  },
  "language_info": {
   "codemirror_mode": {
    "name": "ipython",
    "version": 3
   },
   "file_extension": ".py",
   "mimetype": "text/x-python",
   "name": "python",
   "nbconvert_exporter": "python",
   "pygments_lexer": "ipython3",
   "version": "3.6.4"
  }
 },
 "nbformat": 4,
 "nbformat_minor": 2
}
